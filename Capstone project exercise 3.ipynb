{
    "nbformat_minor": 1, 
    "cells": [
        {
            "source": "# Segmenting and Clustering Neighborhoods in Toronto", 
            "cell_type": "markdown", 
            "metadata": {
                "collapsed": true
            }
        }, 
        {
            "source": "First let's import libraries", 
            "cell_type": "markdown", 
            "metadata": {}
        }, 
        {
            "source": "import pandas as pd\nimport numpy as np", 
            "cell_type": "code", 
            "metadata": {}, 
            "outputs": [], 
            "execution_count": 144
        }, 
        {
            "source": "The html-site is assigned and loaded via pandas read_html. Afterward we will assign the first table on the html site under dfs-pandas dataframe.\nFinally we are going to look up our 5 first values of our dfs-dataframe.", 
            "cell_type": "markdown", 
            "metadata": {}
        }, 
        {
            "source": "url='http://en.wikipedia.org/wiki/List_of_postal_codes_of_Canada:_M'\ndf=pd.read_html(url, header=0, flavor='bs4')\ndfs=pd.DataFrame(df[0])\ndfs.head()", 
            "cell_type": "code", 
            "metadata": {}, 
            "outputs": [
                {
                    "output_type": "execute_result", 
                    "data": {
                        "text/html": "<div>\n<style scoped>\n    .dataframe tbody tr th:only-of-type {\n        vertical-align: middle;\n    }\n\n    .dataframe tbody tr th {\n        vertical-align: top;\n    }\n\n    .dataframe thead th {\n        text-align: right;\n    }\n</style>\n<table border=\"1\" class=\"dataframe\">\n  <thead>\n    <tr style=\"text-align: right;\">\n      <th></th>\n      <th>Postcode</th>\n      <th>Borough</th>\n      <th>Neighbourhood</th>\n    </tr>\n  </thead>\n  <tbody>\n    <tr>\n      <th>0</th>\n      <td>M1A</td>\n      <td>Not assigned</td>\n      <td>Not assigned</td>\n    </tr>\n    <tr>\n      <th>1</th>\n      <td>M2A</td>\n      <td>Not assigned</td>\n      <td>Not assigned</td>\n    </tr>\n    <tr>\n      <th>2</th>\n      <td>M3A</td>\n      <td>North York</td>\n      <td>Parkwoods</td>\n    </tr>\n    <tr>\n      <th>3</th>\n      <td>M4A</td>\n      <td>North York</td>\n      <td>Victoria Village</td>\n    </tr>\n    <tr>\n      <th>4</th>\n      <td>M5A</td>\n      <td>Downtown Toronto</td>\n      <td>Harbourfront</td>\n    </tr>\n  </tbody>\n</table>\n</div>", 
                        "text/plain": "  Postcode           Borough     Neighbourhood\n0      M1A      Not assigned      Not assigned\n1      M2A      Not assigned      Not assigned\n2      M3A        North York         Parkwoods\n3      M4A        North York  Victoria Village\n4      M5A  Downtown Toronto      Harbourfront"
                    }, 
                    "execution_count": 170, 
                    "metadata": {}
                }
            ], 
            "execution_count": 170
        }, 
        {
            "source": "Let's exclude \"Not assigned\" Borough:", 
            "cell_type": "markdown", 
            "metadata": {}
        }, 
        {
            "source": "dfs=dfs[dfs.Borough != 'Not assigned']\ndfs.head()", 
            "cell_type": "code", 
            "metadata": {
                "scrolled": true
            }, 
            "outputs": [
                {
                    "output_type": "execute_result", 
                    "data": {
                        "text/html": "<div>\n<style scoped>\n    .dataframe tbody tr th:only-of-type {\n        vertical-align: middle;\n    }\n\n    .dataframe tbody tr th {\n        vertical-align: top;\n    }\n\n    .dataframe thead th {\n        text-align: right;\n    }\n</style>\n<table border=\"1\" class=\"dataframe\">\n  <thead>\n    <tr style=\"text-align: right;\">\n      <th></th>\n      <th>Postcode</th>\n      <th>Borough</th>\n      <th>Neighbourhood</th>\n    </tr>\n  </thead>\n  <tbody>\n    <tr>\n      <th>2</th>\n      <td>M3A</td>\n      <td>North York</td>\n      <td>Parkwoods</td>\n    </tr>\n    <tr>\n      <th>3</th>\n      <td>M4A</td>\n      <td>North York</td>\n      <td>Victoria Village</td>\n    </tr>\n    <tr>\n      <th>4</th>\n      <td>M5A</td>\n      <td>Downtown Toronto</td>\n      <td>Harbourfront</td>\n    </tr>\n    <tr>\n      <th>5</th>\n      <td>M5A</td>\n      <td>Downtown Toronto</td>\n      <td>Regent Park</td>\n    </tr>\n    <tr>\n      <th>6</th>\n      <td>M6A</td>\n      <td>North York</td>\n      <td>Lawrence Heights</td>\n    </tr>\n  </tbody>\n</table>\n</div>", 
                        "text/plain": "  Postcode           Borough     Neighbourhood\n2      M3A        North York         Parkwoods\n3      M4A        North York  Victoria Village\n4      M5A  Downtown Toronto      Harbourfront\n5      M5A  Downtown Toronto       Regent Park\n6      M6A        North York  Lawrence Heights"
                    }, 
                    "execution_count": 171, 
                    "metadata": {}
                }
            ], 
            "execution_count": 171
        }, 
        {
            "source": "Let's join the duplicated Postcodes and split them within Neighbourhood-column with a comma. We specify not to order the dataframe:", 
            "cell_type": "markdown", 
            "metadata": {}
        }, 
        {
            "source": "dfs = dfs.groupby(['Postcode','Borough'], sort = False).agg(lambda x: ','.join(x))\ndfs.reset_index(level=['Postcode','Borough'], inplace=True)\ndfs.head()\n", 
            "cell_type": "code", 
            "metadata": {
                "scrolled": true
            }, 
            "outputs": [
                {
                    "output_type": "execute_result", 
                    "data": {
                        "text/html": "<div>\n<style scoped>\n    .dataframe tbody tr th:only-of-type {\n        vertical-align: middle;\n    }\n\n    .dataframe tbody tr th {\n        vertical-align: top;\n    }\n\n    .dataframe thead th {\n        text-align: right;\n    }\n</style>\n<table border=\"1\" class=\"dataframe\">\n  <thead>\n    <tr style=\"text-align: right;\">\n      <th></th>\n      <th>Postcode</th>\n      <th>Borough</th>\n      <th>Neighbourhood</th>\n    </tr>\n  </thead>\n  <tbody>\n    <tr>\n      <th>0</th>\n      <td>M3A</td>\n      <td>North York</td>\n      <td>Parkwoods</td>\n    </tr>\n    <tr>\n      <th>1</th>\n      <td>M4A</td>\n      <td>North York</td>\n      <td>Victoria Village</td>\n    </tr>\n    <tr>\n      <th>2</th>\n      <td>M5A</td>\n      <td>Downtown Toronto</td>\n      <td>Harbourfront,Regent Park</td>\n    </tr>\n    <tr>\n      <th>3</th>\n      <td>M6A</td>\n      <td>North York</td>\n      <td>Lawrence Heights,Lawrence Manor</td>\n    </tr>\n    <tr>\n      <th>4</th>\n      <td>M7A</td>\n      <td>Queen's Park</td>\n      <td>Not assigned</td>\n    </tr>\n  </tbody>\n</table>\n</div>", 
                        "text/plain": "  Postcode           Borough                    Neighbourhood\n0      M3A        North York                        Parkwoods\n1      M4A        North York                 Victoria Village\n2      M5A  Downtown Toronto         Harbourfront,Regent Park\n3      M6A        North York  Lawrence Heights,Lawrence Manor\n4      M7A      Queen's Park                     Not assigned"
                    }, 
                    "execution_count": 172, 
                    "metadata": {}
                }
            ], 
            "execution_count": 172
        }, 
        {
            "source": "Next we are going to replace the \"Not assigned\" Neighbourhoods with the Borough-label and illustrate the dataframe:", 
            "cell_type": "markdown", 
            "metadata": {}
        }, 
        {
            "source": "dfs.loc[dfs['Neighbourhood'] == ('Not assigned'), 'Neighbourhood'] = dfs['Borough']\ndfs.head()", 
            "cell_type": "code", 
            "metadata": {}, 
            "outputs": [
                {
                    "output_type": "execute_result", 
                    "data": {
                        "text/html": "<div>\n<style scoped>\n    .dataframe tbody tr th:only-of-type {\n        vertical-align: middle;\n    }\n\n    .dataframe tbody tr th {\n        vertical-align: top;\n    }\n\n    .dataframe thead th {\n        text-align: right;\n    }\n</style>\n<table border=\"1\" class=\"dataframe\">\n  <thead>\n    <tr style=\"text-align: right;\">\n      <th></th>\n      <th>Postcode</th>\n      <th>Borough</th>\n      <th>Neighbourhood</th>\n    </tr>\n  </thead>\n  <tbody>\n    <tr>\n      <th>0</th>\n      <td>M3A</td>\n      <td>North York</td>\n      <td>Parkwoods</td>\n    </tr>\n    <tr>\n      <th>1</th>\n      <td>M4A</td>\n      <td>North York</td>\n      <td>Victoria Village</td>\n    </tr>\n    <tr>\n      <th>2</th>\n      <td>M5A</td>\n      <td>Downtown Toronto</td>\n      <td>Harbourfront,Regent Park</td>\n    </tr>\n    <tr>\n      <th>3</th>\n      <td>M6A</td>\n      <td>North York</td>\n      <td>Lawrence Heights,Lawrence Manor</td>\n    </tr>\n    <tr>\n      <th>4</th>\n      <td>M7A</td>\n      <td>Queen's Park</td>\n      <td>Queen's Park</td>\n    </tr>\n  </tbody>\n</table>\n</div>", 
                        "text/plain": "  Postcode           Borough                    Neighbourhood\n0      M3A        North York                        Parkwoods\n1      M4A        North York                 Victoria Village\n2      M5A  Downtown Toronto         Harbourfront,Regent Park\n3      M6A        North York  Lawrence Heights,Lawrence Manor\n4      M7A      Queen's Park                     Queen's Park"
                    }, 
                    "execution_count": 173, 
                    "metadata": {}
                }
            ], 
            "execution_count": 173
        }, 
        {
            "source": "# PART 1: The dataframe shape:", 
            "cell_type": "markdown", 
            "metadata": {}
        }, 
        {
            "source": "dfs.shape", 
            "cell_type": "code", 
            "metadata": {}, 
            "outputs": [
                {
                    "output_type": "execute_result", 
                    "data": {
                        "text/plain": "(103, 3)"
                    }, 
                    "execution_count": 174, 
                    "metadata": {}
                }
            ], 
            "execution_count": 174
        }, 
        {
            "source": "#Adding the location data", 
            "cell_type": "markdown", 
            "metadata": {}
        }, 
        {
            "source": "!wget -O Geospatial_coordinates.csv https://cocl.us/Geospatial_data", 
            "cell_type": "code", 
            "metadata": {}, 
            "outputs": [
                {
                    "output_type": "stream", 
                    "name": "stdout", 
                    "text": "--2019-06-13 11:52:41--  https://cocl.us/Geospatial_data\nResolving cocl.us (cocl.us)... 159.8.72.228\nConnecting to cocl.us (cocl.us)|159.8.72.228|:443... connected.\nHTTP request sent, awaiting response... 301 Moved Permanently\nLocation: https://ibm.box.com/shared/static/9afzr83pps4pwf2smjjcf1y5mvgb18rr.csv [following]\n--2019-06-13 11:52:42--  https://ibm.box.com/shared/static/9afzr83pps4pwf2smjjcf1y5mvgb18rr.csv\nResolving ibm.box.com (ibm.box.com)... 185.235.236.197\nConnecting to ibm.box.com (ibm.box.com)|185.235.236.197|:443... connected.\nHTTP request sent, awaiting response... 301 Moved Permanently\nLocation: /public/static/9afzr83pps4pwf2smjjcf1y5mvgb18rr.csv [following]\n--2019-06-13 11:52:42--  https://ibm.box.com/public/static/9afzr83pps4pwf2smjjcf1y5mvgb18rr.csv\nReusing existing connection to ibm.box.com:443.\nHTTP request sent, awaiting response... 301 Moved Permanently\nLocation: https://ibm.ent.box.com/public/static/9afzr83pps4pwf2smjjcf1y5mvgb18rr.csv [following]\n--2019-06-13 11:52:43--  https://ibm.ent.box.com/public/static/9afzr83pps4pwf2smjjcf1y5mvgb18rr.csv\nResolving ibm.ent.box.com (ibm.ent.box.com)... 107.152.26.211\nConnecting to ibm.ent.box.com (ibm.ent.box.com)|107.152.26.211|:443... connected.\nHTTP request sent, awaiting response... 302 Found\nLocation: https://public.boxcloud.com/d/1/b1!ARdlbQvaVJkl34j3IyEGonSfHzruI7ohGYrEb7zQk8YvAdXXf901G8ce1FOpWhehKzs5o-ddLDBv43SVewz6lSj6rCx5z-CYazRGMa2O2fauOs6pnjiE1MfcB5L0D181GeHepOqrqGE-fyMd9jM8Ec_rO-fCQuOVFenSyFAw5JHcV0SQLJL3xC8yII5Y-ldgl-t_0QrGg8EjgT_j_COyacAhNh21o_Lv8j5JK4ntF2QRdSbhu-KMbMzr89R2ifUopP3p3pgH4kLmRzt12EXRzeyVHe1ATw5cq43e38994oM4D-rLr5DOy0Xe9dfR2yozWQStDD3FYtk8-867sl-CgWnaZzLZyg1ryOJ7aaFcSiwi2HDrkiLsGORhKxcAfOYnmSj7wtWyc5q8Oh3IHaUlNWKoZyqFlqiWDn95Zt4xdX8oIoYpyZU4gwDBTf6FeZafKhKfVObhHcjQ8MRA1nEOicH0fbFNoR3NfXl0hI5Y8AMdOCUK7wfC7i2E0MTv6U8DZExm4kAKid79pVA3424favBGQl5uZ7iGxzwUmDFPj9_2uzCOdhBhnbucEVQ-W4Tj26lJSwDi4C7CD6Z2yndtBd4CLJTnqAP1tbJLo3qBciQPqHYhxFQNtGz1V6fFgFUc79hlPBdM-mqYdKqpS7Fc4BY9h1WQ2xLXzvevSsNZaox589yvuv6lM_4B-VOdwZPX40_8VgJIGrWzvFd6qis6N1nqJuGjueKEv-LXa8ePR3zudWs9hBar0TvvoLG2RaURBIhim0dx4gX2n6_jLEwq_YUBDRcTLjiu-an2pxpskoAaHiSTlyo30N3Xz64iIsklPy0WUiVxkXA1ouxEKhOqm-7cITI_U30A6osQF3UrTXVm0LChPbPmZXN-7QKAEHDD7NJ7Mx3WrmbwipwXDwvdKVujmG1EN6Zso7GqU0pPcZ76Vf4YSQHre0-VtV_gLPPPnY5Vz78UgfVNDItuHASMHg4ccd95AbL_8HkPt0UpmhnPKHEMA33oeo0jHJyCch3xjIJ9uNVmVim4yDEwo8lP60CvADyH_RvwTY6wNN78VMLyHG7xZKOvmVzSnh2IwgbJXbg8le-5ELSnPsmyc2hgjKKojWrcoO3lNuijebrc4SY47fezeaoiWtHtaiRqL_rF2CfWACTLs019zcioT0pDrtarj5fd4ip9sZP6pch1hRLMW9qsnllbk3_uJ2L5f1tMBZhcUiTQDPpotJaJkcGKhcszkR6GSx59x_EztQkxVJAO28dZXnnI8egB3-cZ-3qjswmuSPIzI_bgbCEIBYLmM2eVwNtggHxx3HcXvY-XSHRWeG_Xua3Imf35VIBohkVnHRmCoaz4f7AWPbX2B7VuWZxAx-Dl3DAPBdfQ6jStMb3MOkk9UBmIYARWQWGjvg../download [following]\n--2019-06-13 11:52:44--  https://public.boxcloud.com/d/1/b1!ARdlbQvaVJkl34j3IyEGonSfHzruI7ohGYrEb7zQk8YvAdXXf901G8ce1FOpWhehKzs5o-ddLDBv43SVewz6lSj6rCx5z-CYazRGMa2O2fauOs6pnjiE1MfcB5L0D181GeHepOqrqGE-fyMd9jM8Ec_rO-fCQuOVFenSyFAw5JHcV0SQLJL3xC8yII5Y-ldgl-t_0QrGg8EjgT_j_COyacAhNh21o_Lv8j5JK4ntF2QRdSbhu-KMbMzr89R2ifUopP3p3pgH4kLmRzt12EXRzeyVHe1ATw5cq43e38994oM4D-rLr5DOy0Xe9dfR2yozWQStDD3FYtk8-867sl-CgWnaZzLZyg1ryOJ7aaFcSiwi2HDrkiLsGORhKxcAfOYnmSj7wtWyc5q8Oh3IHaUlNWKoZyqFlqiWDn95Zt4xdX8oIoYpyZU4gwDBTf6FeZafKhKfVObhHcjQ8MRA1nEOicH0fbFNoR3NfXl0hI5Y8AMdOCUK7wfC7i2E0MTv6U8DZExm4kAKid79pVA3424favBGQl5uZ7iGxzwUmDFPj9_2uzCOdhBhnbucEVQ-W4Tj26lJSwDi4C7CD6Z2yndtBd4CLJTnqAP1tbJLo3qBciQPqHYhxFQNtGz1V6fFgFUc79hlPBdM-mqYdKqpS7Fc4BY9h1WQ2xLXzvevSsNZaox589yvuv6lM_4B-VOdwZPX40_8VgJIGrWzvFd6qis6N1nqJuGjueKEv-LXa8ePR3zudWs9hBar0TvvoLG2RaURBIhim0dx4gX2n6_jLEwq_YUBDRcTLjiu-an2pxpskoAaHiSTlyo30N3Xz64iIsklPy0WUiVxkXA1ouxEKhOqm-7cITI_U30A6osQF3UrTXVm0LChPbPmZXN-7QKAEHDD7NJ7Mx3WrmbwipwXDwvdKVujmG1EN6Zso7GqU0pPcZ76Vf4YSQHre0-VtV_gLPPPnY5Vz78UgfVNDItuHASMHg4ccd95AbL_8HkPt0UpmhnPKHEMA33oeo0jHJyCch3xjIJ9uNVmVim4yDEwo8lP60CvADyH_RvwTY6wNN78VMLyHG7xZKOvmVzSnh2IwgbJXbg8le-5ELSnPsmyc2hgjKKojWrcoO3lNuijebrc4SY47fezeaoiWtHtaiRqL_rF2CfWACTLs019zcioT0pDrtarj5fd4ip9sZP6pch1hRLMW9qsnllbk3_uJ2L5f1tMBZhcUiTQDPpotJaJkcGKhcszkR6GSx59x_EztQkxVJAO28dZXnnI8egB3-cZ-3qjswmuSPIzI_bgbCEIBYLmM2eVwNtggHxx3HcXvY-XSHRWeG_Xua3Imf35VIBohkVnHRmCoaz4f7AWPbX2B7VuWZxAx-Dl3DAPBdfQ6jStMb3MOkk9UBmIYARWQWGjvg../download\nResolving public.boxcloud.com (public.boxcloud.com)... 185.235.236.200\nConnecting to public.boxcloud.com (public.boxcloud.com)|185.235.236.200|:443... connected.\nHTTP request sent, awaiting response... 200 OK\nLength: 2891 (2.8K) [text/csv]\nSaving to: \u2018Geospatial_coordinates.csv\u2019\n\n100%[======================================>] 2,891       --.-K/s   in 0s      \n\n2019-06-13 11:52:44 (409 MB/s) - \u2018Geospatial_coordinates.csv\u2019 saved [2891/2891]\n\n"
                }
            ], 
            "execution_count": 82
        }, 
        {
            "source": "coordinates = pd.read_csv('Geospatial_coordinates.csv')", 
            "cell_type": "code", 
            "metadata": {}, 
            "outputs": [], 
            "execution_count": 175
        }, 
        {
            "source": "geodf = pd.DataFrame(coordinates)\ngeodf.head()\n#geodf.shape", 
            "cell_type": "code", 
            "metadata": {}, 
            "outputs": [
                {
                    "output_type": "execute_result", 
                    "data": {
                        "text/html": "<div>\n<style scoped>\n    .dataframe tbody tr th:only-of-type {\n        vertical-align: middle;\n    }\n\n    .dataframe tbody tr th {\n        vertical-align: top;\n    }\n\n    .dataframe thead th {\n        text-align: right;\n    }\n</style>\n<table border=\"1\" class=\"dataframe\">\n  <thead>\n    <tr style=\"text-align: right;\">\n      <th></th>\n      <th>Postal Code</th>\n      <th>Latitude</th>\n      <th>Longitude</th>\n    </tr>\n  </thead>\n  <tbody>\n    <tr>\n      <th>0</th>\n      <td>M1B</td>\n      <td>43.806686</td>\n      <td>-79.194353</td>\n    </tr>\n    <tr>\n      <th>1</th>\n      <td>M1C</td>\n      <td>43.784535</td>\n      <td>-79.160497</td>\n    </tr>\n    <tr>\n      <th>2</th>\n      <td>M1E</td>\n      <td>43.763573</td>\n      <td>-79.188711</td>\n    </tr>\n    <tr>\n      <th>3</th>\n      <td>M1G</td>\n      <td>43.770992</td>\n      <td>-79.216917</td>\n    </tr>\n    <tr>\n      <th>4</th>\n      <td>M1H</td>\n      <td>43.773136</td>\n      <td>-79.239476</td>\n    </tr>\n  </tbody>\n</table>\n</div>", 
                        "text/plain": "  Postal Code   Latitude  Longitude\n0         M1B  43.806686 -79.194353\n1         M1C  43.784535 -79.160497\n2         M1E  43.763573 -79.188711\n3         M1G  43.770992 -79.216917\n4         M1H  43.773136 -79.239476"
                    }, 
                    "execution_count": 176, 
                    "metadata": {}
                }
            ], 
            "execution_count": 176
        }, 
        {
            "source": "# Part 2: table with coordinates included:", 
            "cell_type": "markdown", 
            "metadata": {}
        }, 
        {
            "source": "dfs['Latitude']=geodf['Latitude'].values\ndfs['Longitude']=geodf['Longitude'].values\ndfs.head(10)", 
            "cell_type": "code", 
            "metadata": {}, 
            "outputs": [
                {
                    "output_type": "execute_result", 
                    "data": {
                        "text/html": "<div>\n<style scoped>\n    .dataframe tbody tr th:only-of-type {\n        vertical-align: middle;\n    }\n\n    .dataframe tbody tr th {\n        vertical-align: top;\n    }\n\n    .dataframe thead th {\n        text-align: right;\n    }\n</style>\n<table border=\"1\" class=\"dataframe\">\n  <thead>\n    <tr style=\"text-align: right;\">\n      <th></th>\n      <th>Postcode</th>\n      <th>Borough</th>\n      <th>Neighbourhood</th>\n      <th>Latitude</th>\n      <th>Longitude</th>\n    </tr>\n  </thead>\n  <tbody>\n    <tr>\n      <th>0</th>\n      <td>M3A</td>\n      <td>North York</td>\n      <td>Parkwoods</td>\n      <td>43.806686</td>\n      <td>-79.194353</td>\n    </tr>\n    <tr>\n      <th>1</th>\n      <td>M4A</td>\n      <td>North York</td>\n      <td>Victoria Village</td>\n      <td>43.784535</td>\n      <td>-79.160497</td>\n    </tr>\n    <tr>\n      <th>2</th>\n      <td>M5A</td>\n      <td>Downtown Toronto</td>\n      <td>Harbourfront,Regent Park</td>\n      <td>43.763573</td>\n      <td>-79.188711</td>\n    </tr>\n    <tr>\n      <th>3</th>\n      <td>M6A</td>\n      <td>North York</td>\n      <td>Lawrence Heights,Lawrence Manor</td>\n      <td>43.770992</td>\n      <td>-79.216917</td>\n    </tr>\n    <tr>\n      <th>4</th>\n      <td>M7A</td>\n      <td>Queen's Park</td>\n      <td>Queen's Park</td>\n      <td>43.773136</td>\n      <td>-79.239476</td>\n    </tr>\n    <tr>\n      <th>5</th>\n      <td>M9A</td>\n      <td>Etobicoke</td>\n      <td>Islington Avenue</td>\n      <td>43.744734</td>\n      <td>-79.239476</td>\n    </tr>\n    <tr>\n      <th>6</th>\n      <td>M1B</td>\n      <td>Scarborough</td>\n      <td>Rouge,Malvern</td>\n      <td>43.727929</td>\n      <td>-79.262029</td>\n    </tr>\n    <tr>\n      <th>7</th>\n      <td>M3B</td>\n      <td>North York</td>\n      <td>Don Mills North</td>\n      <td>43.711112</td>\n      <td>-79.284577</td>\n    </tr>\n    <tr>\n      <th>8</th>\n      <td>M4B</td>\n      <td>East York</td>\n      <td>Woodbine Gardens,Parkview Hill</td>\n      <td>43.716316</td>\n      <td>-79.239476</td>\n    </tr>\n    <tr>\n      <th>9</th>\n      <td>M5B</td>\n      <td>Downtown Toronto</td>\n      <td>Ryerson,Garden District</td>\n      <td>43.692657</td>\n      <td>-79.264848</td>\n    </tr>\n  </tbody>\n</table>\n</div>", 
                        "text/plain": "  Postcode           Borough                    Neighbourhood   Latitude  \\\n0      M3A        North York                        Parkwoods  43.806686   \n1      M4A        North York                 Victoria Village  43.784535   \n2      M5A  Downtown Toronto         Harbourfront,Regent Park  43.763573   \n3      M6A        North York  Lawrence Heights,Lawrence Manor  43.770992   \n4      M7A      Queen's Park                     Queen's Park  43.773136   \n5      M9A         Etobicoke                 Islington Avenue  43.744734   \n6      M1B       Scarborough                    Rouge,Malvern  43.727929   \n7      M3B        North York                  Don Mills North  43.711112   \n8      M4B         East York   Woodbine Gardens,Parkview Hill  43.716316   \n9      M5B  Downtown Toronto          Ryerson,Garden District  43.692657   \n\n   Longitude  \n0 -79.194353  \n1 -79.160497  \n2 -79.188711  \n3 -79.216917  \n4 -79.239476  \n5 -79.239476  \n6 -79.262029  \n7 -79.284577  \n8 -79.239476  \n9 -79.264848  "
                    }, 
                    "execution_count": 179, 
                    "metadata": {}
                }
            ], 
            "execution_count": 179
        }
    ], 
    "metadata": {
        "kernelspec": {
            "display_name": "Python 3.5", 
            "name": "python3", 
            "language": "python"
        }, 
        "language_info": {
            "mimetype": "text/x-python", 
            "nbconvert_exporter": "python", 
            "version": "3.5.5", 
            "name": "python", 
            "pygments_lexer": "ipython3", 
            "file_extension": ".py", 
            "codemirror_mode": {
                "version": 3, 
                "name": "ipython"
            }
        }
    }, 
    "nbformat": 4
}