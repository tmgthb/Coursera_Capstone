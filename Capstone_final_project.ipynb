{
    "nbformat_minor": 1, 
    "cells": [
        {
            "source": "# Introduction\n\nCompanies are keen to maintain their top talent. Most companies are continuously evaluating their strategy on locations in terms of prices, attractiveness to employees. Employees value public infrastructure, ease of commute, close by restaurants, banks and fitness centers, which make easy to balance life outside the workplace. \n\nIn Madrid, we have found three locations, which our consultants have found very with an attractive price to be rented for long period. Each location rent is very similar. Further our construction experts have evaluated each location and think each one of them meet the quality standards expected from the new office building.\n\nHowever we are in doubt, which is the best location for our employees from employee perspective. As the new location is for sure going to generate lot of internal opinions and discussion, we have decided to solve the business problem from the data perspective.", 
            "cell_type": "markdown", 
            "metadata": {
                "collapsed": true
            }
        }, 
        {
            "source": "# Business Problem\n\nOur employees work in a multinational technology company, which wants to attract the best talent. Based on past experiences, we have noticed that the new office location is likely to cause lot of opinions and people are not always happy to have to change their usual work travel route and the restaurants used. We are apart recruiting lot of new employees, who define the workplace experience based on not only the location, but as well attractiveness of the surrounding restaurants, bars and fitness centers. Madrid is the largest city in Spain with over 6000 restaurants, so our problem is not only just finding bars and restaurants, but as well find the popular places, which our new employees love.\n\nTherefore our business problem is to evaluate the three locations objectively in terms of the location data available in Foursquare and define the best location for the new office. We will be\n\n", 
            "cell_type": "markdown", 
            "metadata": {}
        }, 
        {
            "source": "# Data\n\n\n## Foursquare data\nFoursquare is a location data provider of 105 million places. The site is a social networking, which purpose is to discover and share information about businesses and attractions around its users. We will be using it for this project. In case we would like to use alternative services, there are several to name a few: Yelp, NinthDecimal and LikeWhere.\n\nFoursquare has over 150 000 developers within its plaform. Foursquare developer interface helps to retrieve information e.g. provide list of venues, which are close to a specific location, but as well detailed information about the specific venues and users. Foursquare offers API called: \"Places\", which allows developers to retrieve location data in real-time from any connected device. We will be using the \"Places\"-API in order to search the locations\n\n", 
            "cell_type": "markdown", 
            "metadata": {}
        }
    ], 
    "metadata": {
        "kernelspec": {
            "display_name": "Python 3.5", 
            "name": "python3", 
            "language": "python"
        }, 
        "language_info": {
            "mimetype": "text/x-python", 
            "nbconvert_exporter": "python", 
            "version": "3.5.5", 
            "name": "python", 
            "pygments_lexer": "ipython3", 
            "file_extension": ".py", 
            "codemirror_mode": {
                "version": 3, 
                "name": "ipython"
            }
        }
    }, 
    "nbformat": 4
}